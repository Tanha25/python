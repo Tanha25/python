{
  "metadata": {
    "kernelspec": {
      "name": "python",
      "display_name": "Python (Pyodide)",
      "language": "python"
    },
    "language_info": {
      "codemirror_mode": {
        "name": "python",
        "version": 3
      },
      "file_extension": ".py",
      "mimetype": "text/x-python",
      "name": "python",
      "nbconvert_exporter": "python",
      "pygments_lexer": "ipython3",
      "version": "3.8"
    },
    "widgets": {
      "application/vnd.jupyter.widget-state+json": {
        "version_major": 2,
        "version_minor": 0,
        "state": {}
      }
    }
  },
  "nbformat_minor": 4,
  "nbformat": 4,
  "cells": [
    {
      "cell_type": "code",
      "source": "#python dtring formatting\nnum1=30\nnum2=40\nprint(f'my cute number{num1+num2}')",
      "metadata": {
        "trusted": true
      },
      "outputs": [
        {
          "name": "stdout",
          "output_type": "stream",
          "text": "my cute number70\n"
        }
      ],
      "execution_count": 8
    },
    {
      "cell_type": "markdown",
      "source": "#binary type data\nhablulist=[1,2,3,4]\nb=bytes(hablulist)\nprint(type(b))",
      "metadata": {}
    },
    {
      "cell_type": "code",
      "source": "#binary type data \nhablulist=[1,2,3,4] \nb=bytes(hablulist) \nprint(type(b))",
      "metadata": {
        "trusted": true
      },
      "outputs": [
        {
          "name": "stdout",
          "output_type": "stream",
          "text": "<class 'bytes'>\n"
        }
      ],
      "execution_count": 4
    },
    {
      "cell_type": "code",
      "source": "#binary type data \nhablulist=[1,2,3,4]\nb=bytes(hablulist)\nprint(b)",
      "metadata": {
        "trusted": true
      },
      "outputs": [
        {
          "name": "stdout",
          "output_type": "stream",
          "text": "b'\\x01\\x02\\x03\\x04'\n"
        }
      ],
      "execution_count": 6
    },
    {
      "cell_type": "code",
      "source": "#list type data \nli=['la','lala','kaka']\nprint(li)",
      "metadata": {
        "trusted": true
      },
      "outputs": [
        {
          "name": "stdout",
          "output_type": "stream",
          "text": "['la', 'lala', 'kaka']\n"
        }
      ],
      "execution_count": 7
    },
    {
      "cell_type": "code",
      "source": "#tuple type data\ntup=(50,70,30)\nprint(tup)\nprint(type(tup))",
      "metadata": {
        "trusted": true
      },
      "outputs": [
        {
          "name": "stdout",
          "output_type": "stream",
          "text": "(50, 70, 30)\n<class 'tuple'>\n"
        }
      ],
      "execution_count": 9
    },
    {
      "cell_type": "code",
      "source": "#range data type\nran=range(6);\nprint(ran)",
      "metadata": {
        "trusted": true
      },
      "outputs": [
        {
          "name": "stdout",
          "output_type": "stream",
          "text": "range(0, 6)\n"
        }
      ],
      "execution_count": 10
    },
    {
      "cell_type": "code",
      "source": "my={\n    \"name\":\"tanha\",\n    \"roll\":234,\n    \"class\":3}\nmy[\"subject\"]=\"english\"\nprint(my)",
      "metadata": {
        "trusted": true
      },
      "outputs": [
        {
          "name": "stdout",
          "output_type": "stream",
          "text": "{'name': 'tanha', 'roll': 234, 'class': 3, 'subject': 'english'}\n"
        }
      ],
      "execution_count": 1
    },
    {
      "cell_type": "code",
      "source": "my={\n    \"name\":\"tanha\",\n    \"roll\":234,\n    \"class\":3}\nmy.update({\"subject\":\"english\"})\nprint(my)",
      "metadata": {
        "trusted": true
      },
      "outputs": [
        {
          "name": "stdout",
          "output_type": "stream",
          "text": "{'name': 'tanha', 'roll': 234, 'class': 3, 'subject': 'english'}\n"
        }
      ],
      "execution_count": 2
    },
    {
      "cell_type": "code",
      "source": "my={\n    \"name\":\"tanha\",\n    \"roll\":234,\n    \"class\":3}\nmy.pop(\"roll\")\nprint(my)",
      "metadata": {
        "trusted": true
      },
      "outputs": [
        {
          "name": "stdout",
          "output_type": "stream",
          "text": "{'name': 'tanha', 'class': 3}\n"
        }
      ],
      "execution_count": 3
    },
    {
      "cell_type": "code",
      "source": "my={\n    \"name\":\"tanha\",\n    \"roll\":234,\n    \"class\":3}\nmy.popitem()\nprint(my)",
      "metadata": {
        "trusted": true
      },
      "outputs": [
        {
          "name": "stdout",
          "output_type": "stream",
          "text": "{'name': 'tanha', 'roll': 234}\n"
        }
      ],
      "execution_count": 4
    },
    {
      "cell_type": "code",
      "source": "my={\n    \"name\":\"tanha\",\n    \"roll\":234,\n    \"class\":3}\nmy.clear()\nprint(my)",
      "metadata": {
        "trusted": true
      },
      "outputs": [
        {
          "name": "stdout",
          "output_type": "stream",
          "text": "{}\n"
        }
      ],
      "execution_count": 7
    },
    {
      "cell_type": "code",
      "source": "thisdict =\t{\n  \"brand\": \"Ford\",\n  \"model\": \"Mustang\",\n  \"year\": 1964\n}\nfor x in thisdict:\n  print(x)\n",
      "metadata": {
        "trusted": true
      },
      "outputs": [
        {
          "name": "stdout",
          "output_type": "stream",
          "text": "brand\nmodel\nyear\n"
        }
      ],
      "execution_count": 6
    },
    {
      "cell_type": "code",
      "source": "myfamily = {\n  \"child1\" : {\n    \"name\" : \"Emil\",\n    \"year\" : 2004\n  },\n  \"child2\" : {\n    \"name\" : \"Tobias\",\n    \"year\" : 2007\n  }\n}\nprint(myfamily)",
      "metadata": {
        "trusted": true
      },
      "outputs": [
        {
          "name": "stdout",
          "output_type": "stream",
          "text": "{'child1': {'name': 'Emil', 'year': 2004}, 'child2': {'name': 'Tobias', 'year': 2007}}\n"
        }
      ],
      "execution_count": 8
    },
    {
      "cell_type": "code",
      "source": "x=5\ny=7;\nif 7>5:\n    print(\"7 largest number\")\n    ",
      "metadata": {
        "trusted": true
      },
      "outputs": [
        {
          "name": "stdout",
          "output_type": "stream",
          "text": "7 largest number\n"
        }
      ],
      "execution_count": 1
    },
    {
      "cell_type": "code",
      "source": "hablulist = [1, 2, 3, 4, 5]\nfor x in range(len(hablulist)):\n    if x == 2:\n        continue \n    print(x)\n",
      "metadata": {
        "trusted": true
      },
      "outputs": [
        {
          "name": "stdout",
          "output_type": "stream",
          "text": "0\n1\n3\n4\n"
        }
      ],
      "execution_count": 3
    },
    {
      "cell_type": "code",
      "source": "re =[1, 2,3,4]\nfor x in range (len(re)):\n    if x==3:\n        continue\n        print(x)",
      "metadata": {
        "trusted": true
      },
      "outputs": [],
      "execution_count": 8
    },
    {
      "cell_type": "code",
      "source": "x=lambda a,b:a+b\nprint(x(40,10))",
      "metadata": {
        "trusted": true
      },
      "outputs": [
        {
          "name": "stdout",
          "output_type": "stream",
          "text": "50\n"
        }
      ],
      "execution_count": 9
    },
    {
      "cell_type": "code",
      "source": "x=lambda a,b:a-b\nprint(x(89,88))",
      "metadata": {
        "trusted": true
      },
      "outputs": [
        {
          "name": "stdout",
          "output_type": "stream",
          "text": "1\n"
        }
      ],
      "execution_count": 12
    },
    {
      "cell_type": "code",
      "source": "def f():\n    a = \"I am local\"\n    print(a)\n\nf()\n# print(a)  # This would raise an error since 'local_var' is not accessible outside the function\n",
      "metadata": {
        "trusted": true
      },
      "outputs": [
        {
          "name": "stdout",
          "output_type": "stream",
          "text": "I am local\n"
        }
      ],
      "execution_count": 5
    },
    {
      "cell_type": "code",
      "source": "a = \"I am global\"\n\ndef f():\n    global a\n    a = \"taslim\"\n    print(a)\n\nf()\nprint(a)  \na = \"I am global\"\ndef f():\n    global a\n    a = \"taslim\"\n    print(a)\n\nf()\nprint(a)",
      "metadata": {
        "trusted": true
      },
      "outputs": [
        {
          "name": "stdout",
          "output_type": "stream",
          "text": "taslim\ntaslim\ntaslim\ntaslim\n"
        }
      ],
      "execution_count": 9
    },
    {
      "cell_type": "code",
      "source": "a =10 \nprint(a)\ndel a",
      "metadata": {
        "trusted": true
      },
      "outputs": [
        {
          "name": "stdout",
          "output_type": "stream",
          "text": "10\n"
        }
      ],
      "execution_count": 10
    },
    {
      "cell_type": "code",
      "source": "a=3\nb=5\na,b=b,a\nprint(a,b)",
      "metadata": {
        "trusted": true
      },
      "outputs": [
        {
          "name": "stdout",
          "output_type": "stream",
          "text": "5 3\n"
        }
      ],
      "execution_count": 12
    },
    {
      "cell_type": "code",
      "source": "#operator\na=4\nb=10\nprint(a+b)\nprint(a-b)\nprint(a/b)\nprint(a**b)",
      "metadata": {
        "trusted": true
      },
      "outputs": [
        {
          "name": "stdout",
          "output_type": "stream",
          "text": "14\n-6\n0.4\n1048576\n"
        }
      ],
      "execution_count": 2
    },
    {
      "cell_type": "code",
      "source": "word = \"python\"\nlength = len(word)\nprint(\"the lenth :\",length)",
      "metadata": {
        "trusted": true
      },
      "outputs": [
        {
          "name": "stdout",
          "output_type": "stream",
          "text": "the lenth : 6\n"
        }
      ],
      "execution_count": 16
    },
    {
      "cell_type": "code",
      "source": "x=\"i am good girl\"\nlength =len(word)\nprint(\"the lenth:\",length)",
      "metadata": {
        "trusted": true
      },
      "outputs": [
        {
          "name": "stdout",
          "output_type": "stream",
          "text": "the lenth: 6\n"
        }
      ],
      "execution_count": 17
    },
    {
      "cell_type": "code",
      "source": "a=14\nb=13\nprint(a<b)\nprint(a>b)\nprint(a!=b)\nprint(a<=b)\nprint(b>=a)",
      "metadata": {
        "trusted": true
      },
      "outputs": [
        {
          "name": "stdout",
          "output_type": "stream",
          "text": "False\nTrue\nTrue\nFalse\nFalse\n"
        }
      ],
      "execution_count": 3
    },
    {
      "cell_type": "code",
      "source": "a= True\nb= False\nprint(a or b)\nprint( a and b)\nprint( not a)\nprint(not b)",
      "metadata": {
        "trusted": true
      },
      "outputs": [
        {
          "name": "stdout",
          "output_type": "stream",
          "text": "True\nFalse\nFalse\nTrue\n"
        }
      ],
      "execution_count": 10
    },
    {
      "cell_type": "code",
      "source": "a=10\nb=4\nprint(a&b)# Bitwise AND\nprint(a | b)  # Bitwise OR\nprint(~a)     # Bitwise NOT\nprint(a ^ b)  # Bitwise XOR\nprint(a >> 2) # Right shift\nprint(a << 2) # Left shift",
      "metadata": {
        "trusted": true
      },
      "outputs": [
        {
          "name": "stdout",
          "output_type": "stream",
          "text": "0\n14\n-11\n14\n2\n40\n"
        }
      ],
      "execution_count": 11
    },
    {
      "cell_type": "code",
      "source": "a=3\nb=2\nprint(a)\nb+=a\nprint(b)\nb-=a\nprint(b)\nb*=a\nprint(b)\nb<<=a\nprint(b)\nb>>=a\nprint(b)",
      "metadata": {
        "trusted": true
      },
      "outputs": [
        {
          "name": "stdout",
          "output_type": "stream",
          "text": "3\n5\n2\n6\n48\n6\n"
        }
      ],
      "execution_count": 15
    },
    {
      "cell_type": "code",
      "source": "a=5\nb=8\nc=a\nprint(a is not b)\nprint(a is b)\nprint (a is not c)",
      "metadata": {
        "trusted": true
      },
      "outputs": [
        {
          "name": "stdout",
          "output_type": "stream",
          "text": "True\nFalse\nFalse\n"
        }
      ],
      "execution_count": 17
    },
    {
      "cell_type": "code",
      "source": "a, b = 10, 20\nmin = a if a < b else b\n\nprint(min)\n",
      "metadata": {
        "trusted": true
      },
      "outputs": [
        {
          "name": "stdout",
          "output_type": "stream",
          "text": "10\n"
        }
      ],
      "execution_count": 25
    },
    {
      "cell_type": "code",
      "source": "a=30\nb=40\nif a>b:\n    print(\"a largest\")\nelif b>a:\n    print(\"b largest\")\nelse :\n    print(\" two equal\")",
      "metadata": {
        "trusted": true
      },
      "outputs": [
        {
          "name": "stdout",
          "output_type": "stream",
          "text": "b largest\n"
        }
      ],
      "execution_count": 3
    },
    {
      "cell_type": "code",
      "source": "print (30+ (40+60))\nprint(5*6*6*67)",
      "metadata": {
        "trusted": true
      },
      "outputs": [
        {
          "name": "stdout",
          "output_type": "stream",
          "text": "130\n12060\n"
        }
      ],
      "execution_count": 7
    },
    {
      "cell_type": "code",
      "source": "num1=59\nnum2=60\nsum = num1+num2\nprint(sum)",
      "metadata": {
        "trusted": true
      },
      "outputs": [
        {
          "name": "stdout",
          "output_type": "stream",
          "text": "119\n"
        }
      ],
      "execution_count": 9
    },
    {
      "cell_type": "code",
      "source": "x=5\nprint(type(x))\ny='a'\nprint(type(y))\nr=(5,6)\nprint(type(r))\nt={5,8}\nprint(type(t))\nm=[8,9]\nprint(type(m))",
      "metadata": {
        "trusted": true
      },
      "outputs": [
        {
          "name": "stdout",
          "output_type": "stream",
          "text": "<class 'int'>\n<class 'str'>\n<class 'tuple'>\n<class 'set'>\n<class 'list'>\n"
        }
      ],
      "execution_count": 7
    },
    {
      "cell_type": "code",
      "source": "tanha=['a','b','c']\ntanha.append('u')\nprint(tanha)\ntanha.remove('a')\nprint(tanha)\n",
      "metadata": {
        "trusted": true
      },
      "outputs": [
        {
          "name": "stdout",
          "output_type": "stream",
          "text": "['a', 'b', 'c', 'u']\n['b', 'c', 'u']\n"
        }
      ],
      "execution_count": 10
    },
    {
      "cell_type": "code",
      "source": "fruit={'tanha':70,9:'maisha'}\nprint(fruit.get(9))",
      "metadata": {
        "trusted": true
      },
      "outputs": [
        {
          "name": "stdout",
          "output_type": "stream",
          "text": "maisha\n"
        }
      ],
      "execution_count": 11
    },
    {
      "cell_type": "code",
      "source": "set1 = set([\"Geeks\", \"For\", \"Geeks\"])\nprint(set1)\n\n# loop through set\nfor i in set1:\n    print(i, end=\" \")\n    \n# check if item exist in set    \n#print(\"Geeks\" in set1)\n",
      "metadata": {
        "trusted": true
      },
      "outputs": [
        {
          "name": "stdout",
          "output_type": "stream",
          "text": "{'For', 'Geeks'}\nFor Geeks "
        }
      ],
      "execution_count": 15
    },
    {
      "cell_type": "code",
      "source": "set1=set([\"geeks\",\"for\"])\nprint(set1)\nfor i in set1:\n    print(i,end =\" \")",
      "metadata": {
        "trusted": true
      },
      "outputs": [
        {
          "name": "stdout",
          "output_type": "stream",
          "text": "{'for', 'geeks'}\nfor geeks "
        }
      ],
      "execution_count": 17
    },
    {
      "cell_type": "code",
      "source": "",
      "metadata": {
        "trusted": true
      },
      "outputs": [],
      "execution_count": null
    },
    {
      "cell_type": "code",
      "source": "",
      "metadata": {
        "trusted": true
      },
      "outputs": [],
      "execution_count": null
    }
  ]
}